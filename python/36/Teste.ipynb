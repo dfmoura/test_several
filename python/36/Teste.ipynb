{
 "cells": [
  {
   "cell_type": "raw",
   "id": "201785d0-329c-4321-bfba-89a65a624e52",
   "metadata": {},
   "source": [
    "# Introdução a Análise de Dados\n",
    "\n",
    "### Como funciona um Projeto de Análise de Dados?\n",
    "\n",
    "Os projetos de Análise de Dados são na verdade Desafios das Empresas\n",
    "\n",
    "### Desafio\n",
    "\n",
    "- Empresa REFRIGERANTE\n",
    "- Cidades Atendidas\n",
    "- Entendimento do Cenário\n",
    "- O que fazer?\n",
    "- Informações Disponíveis: Base de Faturamento"
   ]
  },
  {
   "cell_type": "markdown",
   "id": "29acec1f",
   "metadata": {},
   "source": [
    "### Passo 1 - Trazer sua base de dados para o Python e ver o que tem nela"
   ]
  },
  {
   "cell_type": "code",
   "execution_count": 61,
   "id": "cb9ef3c1-6ef3-4497-b105-2cc87e18c02b",
   "metadata": {},
   "outputs": [],
   "source": [
    "import pandas as pd\n",
    "import numpy as np\n",
    "\n",
    "import seaborn as sns\n",
    "import matplotlib.pyplot as plt\n",
    "\n",
    "plt.style.use('ggplot')"
   ]
  },
  {
   "cell_type": "code",
   "execution_count": 62,
   "id": "194777c9",
   "metadata": {},
   "outputs": [
    {
     "name": "stderr",
     "output_type": "stream",
     "text": [
      "/home/diogo/anaconda3/envs/myenv/lib/python3.12/site-packages/openpyxl/styles/stylesheet.py:226: UserWarning: Workbook contains no default style, apply openpyxl's default\n",
      "  warn(\"Workbook contains no default style, apply openpyxl's default\")\n"
     ]
    },
    {
     "data": {
      "text/html": [
       "<div>\n",
       "<style scoped>\n",
       "    .dataframe tbody tr th:only-of-type {\n",
       "        vertical-align: middle;\n",
       "    }\n",
       "\n",
       "    .dataframe tbody tr th {\n",
       "        vertical-align: top;\n",
       "    }\n",
       "\n",
       "    .dataframe thead th {\n",
       "        text-align: right;\n",
       "    }\n",
       "</style>\n",
       "<table border=\"1\" class=\"dataframe\">\n",
       "  <thead>\n",
       "    <tr style=\"text-align: right;\">\n",
       "      <th></th>\n",
       "      <th>CODPROD</th>\n",
       "      <th>CODTIPO</th>\n",
       "      <th>CODPARC</th>\n",
       "      <th>CODCID</th>\n",
       "      <th>HL</th>\n",
       "      <th>LT</th>\n",
       "      <th>VLRFAT</th>\n",
       "      <th>CUSSEMICM</th>\n",
       "      <th>GASTO_VARIAVEL</th>\n",
       "      <th>MARGEM_CONTRIB</th>\n",
       "      <th>GASTO_FIXO</th>\n",
       "      <th>RESULTADO</th>\n",
       "      <th>PERCE</th>\n",
       "      <th>FREQUENCIA</th>\n",
       "    </tr>\n",
       "  </thead>\n",
       "  <tbody>\n",
       "    <tr>\n",
       "      <th>0</th>\n",
       "      <td>418</td>\n",
       "      <td>4</td>\n",
       "      <td>13449</td>\n",
       "      <td>857</td>\n",
       "      <td>0.03</td>\n",
       "      <td>3.0</td>\n",
       "      <td>15.71</td>\n",
       "      <td>3.99</td>\n",
       "      <td>5.17</td>\n",
       "      <td>6.545608</td>\n",
       "      <td>0.969187</td>\n",
       "      <td>5.576421</td>\n",
       "      <td>0.000511</td>\n",
       "      <td>1</td>\n",
       "    </tr>\n",
       "    <tr>\n",
       "      <th>1</th>\n",
       "      <td>418</td>\n",
       "      <td>4</td>\n",
       "      <td>13480</td>\n",
       "      <td>2</td>\n",
       "      <td>0.03</td>\n",
       "      <td>3.0</td>\n",
       "      <td>13.50</td>\n",
       "      <td>3.99</td>\n",
       "      <td>4.71</td>\n",
       "      <td>4.795608</td>\n",
       "      <td>0.832847</td>\n",
       "      <td>3.962761</td>\n",
       "      <td>0.000375</td>\n",
       "      <td>1</td>\n",
       "    </tr>\n",
       "    <tr>\n",
       "      <th>2</th>\n",
       "      <td>418</td>\n",
       "      <td>4</td>\n",
       "      <td>30649</td>\n",
       "      <td>857</td>\n",
       "      <td>0.03</td>\n",
       "      <td>3.0</td>\n",
       "      <td>13.51</td>\n",
       "      <td>3.99</td>\n",
       "      <td>4.92</td>\n",
       "      <td>4.595608</td>\n",
       "      <td>0.833464</td>\n",
       "      <td>3.762144</td>\n",
       "      <td>0.000359</td>\n",
       "      <td>1</td>\n",
       "    </tr>\n",
       "    <tr>\n",
       "      <th>3</th>\n",
       "      <td>418</td>\n",
       "      <td>4</td>\n",
       "      <td>48814</td>\n",
       "      <td>4968</td>\n",
       "      <td>0.06</td>\n",
       "      <td>6.0</td>\n",
       "      <td>24.99</td>\n",
       "      <td>7.16</td>\n",
       "      <td>9.62</td>\n",
       "      <td>8.213848</td>\n",
       "      <td>1.541692</td>\n",
       "      <td>6.672156</td>\n",
       "      <td>0.000642</td>\n",
       "      <td>1</td>\n",
       "    </tr>\n",
       "    <tr>\n",
       "      <th>4</th>\n",
       "      <td>418</td>\n",
       "      <td>4</td>\n",
       "      <td>52905</td>\n",
       "      <td>278</td>\n",
       "      <td>0.03</td>\n",
       "      <td>3.0</td>\n",
       "      <td>12.50</td>\n",
       "      <td>3.58</td>\n",
       "      <td>4.80</td>\n",
       "      <td>4.121924</td>\n",
       "      <td>0.771155</td>\n",
       "      <td>3.350769</td>\n",
       "      <td>0.000322</td>\n",
       "      <td>1</td>\n",
       "    </tr>\n",
       "    <tr>\n",
       "      <th>...</th>\n",
       "      <td>...</td>\n",
       "      <td>...</td>\n",
       "      <td>...</td>\n",
       "      <td>...</td>\n",
       "      <td>...</td>\n",
       "      <td>...</td>\n",
       "      <td>...</td>\n",
       "      <td>...</td>\n",
       "      <td>...</td>\n",
       "      <td>...</td>\n",
       "      <td>...</td>\n",
       "      <td>...</td>\n",
       "      <td>...</td>\n",
       "      <td>...</td>\n",
       "    </tr>\n",
       "    <tr>\n",
       "      <th>4995</th>\n",
       "      <td>630</td>\n",
       "      <td>4</td>\n",
       "      <td>514726</td>\n",
       "      <td>1875</td>\n",
       "      <td>10.26</td>\n",
       "      <td>1026.0</td>\n",
       "      <td>2149.60</td>\n",
       "      <td>806.43</td>\n",
       "      <td>753.22</td>\n",
       "      <td>589.954944</td>\n",
       "      <td>132.613910</td>\n",
       "      <td>457.341034</td>\n",
       "      <td>0.046081</td>\n",
       "      <td>2</td>\n",
       "    </tr>\n",
       "    <tr>\n",
       "      <th>4996</th>\n",
       "      <td>469</td>\n",
       "      <td>4</td>\n",
       "      <td>522055</td>\n",
       "      <td>227</td>\n",
       "      <td>0.24</td>\n",
       "      <td>24.0</td>\n",
       "      <td>59.60</td>\n",
       "      <td>35.32</td>\n",
       "      <td>39.99</td>\n",
       "      <td>-15.707680</td>\n",
       "      <td>3.676865</td>\n",
       "      <td>-19.384545</td>\n",
       "      <td>-0.001227</td>\n",
       "      <td>3</td>\n",
       "    </tr>\n",
       "    <tr>\n",
       "      <th>4997</th>\n",
       "      <td>604</td>\n",
       "      <td>3</td>\n",
       "      <td>31104</td>\n",
       "      <td>2</td>\n",
       "      <td>0.19</td>\n",
       "      <td>19.2</td>\n",
       "      <td>84.81</td>\n",
       "      <td>39.18</td>\n",
       "      <td>138.42</td>\n",
       "      <td>-92.793648</td>\n",
       "      <td>5.232130</td>\n",
       "      <td>-98.025778</td>\n",
       "      <td>-0.007248</td>\n",
       "      <td>3</td>\n",
       "    </tr>\n",
       "    <tr>\n",
       "      <th>4998</th>\n",
       "      <td>604</td>\n",
       "      <td>3</td>\n",
       "      <td>518903</td>\n",
       "      <td>2</td>\n",
       "      <td>0.10</td>\n",
       "      <td>9.6</td>\n",
       "      <td>42.40</td>\n",
       "      <td>98.11</td>\n",
       "      <td>345.98</td>\n",
       "      <td>-401.690032</td>\n",
       "      <td>2.615756</td>\n",
       "      <td>-404.305788</td>\n",
       "      <td>-0.031376</td>\n",
       "      <td>3</td>\n",
       "    </tr>\n",
       "    <tr>\n",
       "      <th>4999</th>\n",
       "      <td>604</td>\n",
       "      <td>3</td>\n",
       "      <td>530493</td>\n",
       "      <td>2</td>\n",
       "      <td>0.10</td>\n",
       "      <td>9.6</td>\n",
       "      <td>33.59</td>\n",
       "      <td>19.59</td>\n",
       "      <td>66.15</td>\n",
       "      <td>-52.151824</td>\n",
       "      <td>2.072247</td>\n",
       "      <td>-54.224071</td>\n",
       "      <td>-0.004074</td>\n",
       "      <td>3</td>\n",
       "    </tr>\n",
       "  </tbody>\n",
       "</table>\n",
       "<p>5000 rows × 14 columns</p>\n",
       "</div>"
      ],
      "text/plain": [
       "      CODPROD  CODTIPO  CODPARC  CODCID     HL      LT   VLRFAT  CUSSEMICM  \\\n",
       "0         418        4    13449     857   0.03     3.0    15.71       3.99   \n",
       "1         418        4    13480       2   0.03     3.0    13.50       3.99   \n",
       "2         418        4    30649     857   0.03     3.0    13.51       3.99   \n",
       "3         418        4    48814    4968   0.06     6.0    24.99       7.16   \n",
       "4         418        4    52905     278   0.03     3.0    12.50       3.58   \n",
       "...       ...      ...      ...     ...    ...     ...      ...        ...   \n",
       "4995      630        4   514726    1875  10.26  1026.0  2149.60     806.43   \n",
       "4996      469        4   522055     227   0.24    24.0    59.60      35.32   \n",
       "4997      604        3    31104       2   0.19    19.2    84.81      39.18   \n",
       "4998      604        3   518903       2   0.10     9.6    42.40      98.11   \n",
       "4999      604        3   530493       2   0.10     9.6    33.59      19.59   \n",
       "\n",
       "      GASTO_VARIAVEL  MARGEM_CONTRIB  GASTO_FIXO   RESULTADO     PERCE  \\\n",
       "0               5.17        6.545608    0.969187    5.576421  0.000511   \n",
       "1               4.71        4.795608    0.832847    3.962761  0.000375   \n",
       "2               4.92        4.595608    0.833464    3.762144  0.000359   \n",
       "3               9.62        8.213848    1.541692    6.672156  0.000642   \n",
       "4               4.80        4.121924    0.771155    3.350769  0.000322   \n",
       "...              ...             ...         ...         ...       ...   \n",
       "4995          753.22      589.954944  132.613910  457.341034  0.046081   \n",
       "4996           39.99      -15.707680    3.676865  -19.384545 -0.001227   \n",
       "4997          138.42      -92.793648    5.232130  -98.025778 -0.007248   \n",
       "4998          345.98     -401.690032    2.615756 -404.305788 -0.031376   \n",
       "4999           66.15      -52.151824    2.072247  -54.224071 -0.004074   \n",
       "\n",
       "      FREQUENCIA  \n",
       "0              1  \n",
       "1              1  \n",
       "2              1  \n",
       "3              1  \n",
       "4              1  \n",
       "...          ...  \n",
       "4995           2  \n",
       "4996           3  \n",
       "4997           3  \n",
       "4998           3  \n",
       "4999           3  \n",
       "\n",
       "[5000 rows x 14 columns]"
      ]
     },
     "metadata": {},
     "output_type": "display_data"
    }
   ],
   "source": [
    "\n",
    "\n",
    "\n",
    "tabela = pd.read_excel(\"DADOS_GERAIS.xlsx\",header=2)\n",
    "display(tabela)"
   ]
  },
  {
   "cell_type": "markdown",
   "id": "578672e0",
   "metadata": {},
   "source": [
    "### Passo 2 - Pegar um panorama geral sobre a sua base de dados"
   ]
  },
  {
   "cell_type": "code",
   "execution_count": 63,
   "id": "037ce3ca",
   "metadata": {},
   "outputs": [
    {
     "name": "stdout",
     "output_type": "stream",
     "text": [
      "380068.56\n"
     ]
    }
   ],
   "source": [
    "faturamento_total = tabela[\"VLRFAT\"].sum()\n",
    "print(faturamento_total)"
   ]
  },
  {
   "cell_type": "markdown",
   "id": "bef847a6",
   "metadata": {},
   "source": [
    "### Passo 3 - Começar sua análise Top -> Down"
   ]
  },
  {
   "cell_type": "code",
   "execution_count": 64,
   "id": "9a740aa7",
   "metadata": {},
   "outputs": [
    {
     "data": {
      "text/html": [
       "<div>\n",
       "<style scoped>\n",
       "    .dataframe tbody tr th:only-of-type {\n",
       "        vertical-align: middle;\n",
       "    }\n",
       "\n",
       "    .dataframe tbody tr th {\n",
       "        vertical-align: top;\n",
       "    }\n",
       "\n",
       "    .dataframe thead th {\n",
       "        text-align: right;\n",
       "    }\n",
       "</style>\n",
       "<table border=\"1\" class=\"dataframe\">\n",
       "  <thead>\n",
       "    <tr style=\"text-align: right;\">\n",
       "      <th></th>\n",
       "      <th>VLRFAT</th>\n",
       "    </tr>\n",
       "    <tr>\n",
       "      <th>CODCID</th>\n",
       "      <th></th>\n",
       "    </tr>\n",
       "  </thead>\n",
       "  <tbody>\n",
       "    <tr>\n",
       "      <th>2</th>\n",
       "      <td>65534.51</td>\n",
       "    </tr>\n",
       "    <tr>\n",
       "      <th>4</th>\n",
       "      <td>72787.55</td>\n",
       "    </tr>\n",
       "    <tr>\n",
       "      <th>8</th>\n",
       "      <td>451.03</td>\n",
       "    </tr>\n",
       "    <tr>\n",
       "      <th>227</th>\n",
       "      <td>23356.46</td>\n",
       "    </tr>\n",
       "    <tr>\n",
       "      <th>278</th>\n",
       "      <td>23587.77</td>\n",
       "    </tr>\n",
       "    <tr>\n",
       "      <th>...</th>\n",
       "      <td>...</td>\n",
       "    </tr>\n",
       "    <tr>\n",
       "      <th>5582</th>\n",
       "      <td>133.66</td>\n",
       "    </tr>\n",
       "    <tr>\n",
       "      <th>5583</th>\n",
       "      <td>1187.61</td>\n",
       "    </tr>\n",
       "    <tr>\n",
       "      <th>5585</th>\n",
       "      <td>-105.12</td>\n",
       "    </tr>\n",
       "    <tr>\n",
       "      <th>5586</th>\n",
       "      <td>-32.30</td>\n",
       "    </tr>\n",
       "    <tr>\n",
       "      <th>5589</th>\n",
       "      <td>93.06</td>\n",
       "    </tr>\n",
       "  </tbody>\n",
       "</table>\n",
       "<p>98 rows × 1 columns</p>\n",
       "</div>"
      ],
      "text/plain": [
       "          VLRFAT\n",
       "CODCID          \n",
       "2       65534.51\n",
       "4       72787.55\n",
       "8         451.03\n",
       "227     23356.46\n",
       "278     23587.77\n",
       "...          ...\n",
       "5582      133.66\n",
       "5583     1187.61\n",
       "5585     -105.12\n",
       "5586      -32.30\n",
       "5589       93.06\n",
       "\n",
       "[98 rows x 1 columns]"
      ]
     },
     "metadata": {},
     "output_type": "display_data"
    }
   ],
   "source": [
    "# faturamento por loja\n",
    "faturamento_por_cidade = tabela[[\"CODCID\", \"VLRFAT\"]].groupby(\"CODCID\").sum()\n",
    "display(faturamento_por_cidade)"
   ]
  },
  {
   "cell_type": "markdown",
   "id": "335db628",
   "metadata": {},
   "source": [
    "### Passo 4 - Entrar no detalhe pra entender"
   ]
  },
  {
   "cell_type": "code",
   "execution_count": 65,
   "id": "874c99bc",
   "metadata": {},
   "outputs": [
    {
     "data": {
      "text/html": [
       "<div>\n",
       "<style scoped>\n",
       "    .dataframe tbody tr th:only-of-type {\n",
       "        vertical-align: middle;\n",
       "    }\n",
       "\n",
       "    .dataframe tbody tr th {\n",
       "        vertical-align: top;\n",
       "    }\n",
       "\n",
       "    .dataframe thead th {\n",
       "        text-align: right;\n",
       "    }\n",
       "</style>\n",
       "<table border=\"1\" class=\"dataframe\">\n",
       "  <thead>\n",
       "    <tr style=\"text-align: right;\">\n",
       "      <th></th>\n",
       "      <th></th>\n",
       "      <th></th>\n",
       "      <th>VLRFAT</th>\n",
       "    </tr>\n",
       "    <tr>\n",
       "      <th>CODCID</th>\n",
       "      <th>CODPROD</th>\n",
       "      <th>FREQUENCIA</th>\n",
       "      <th></th>\n",
       "    </tr>\n",
       "  </thead>\n",
       "  <tbody>\n",
       "    <tr>\n",
       "      <th rowspan=\"5\" valign=\"top\">2</th>\n",
       "      <th>418</th>\n",
       "      <th>1</th>\n",
       "      <td>13.50</td>\n",
       "    </tr>\n",
       "    <tr>\n",
       "      <th>426</th>\n",
       "      <th>1</th>\n",
       "      <td>52.80</td>\n",
       "    </tr>\n",
       "    <tr>\n",
       "      <th>469</th>\n",
       "      <th>1</th>\n",
       "      <td>725.09</td>\n",
       "    </tr>\n",
       "    <tr>\n",
       "      <th rowspan=\"2\" valign=\"top\">510</th>\n",
       "      <th>1</th>\n",
       "      <td>3216.94</td>\n",
       "    </tr>\n",
       "    <tr>\n",
       "      <th>2</th>\n",
       "      <td>6480.02</td>\n",
       "    </tr>\n",
       "    <tr>\n",
       "      <th>...</th>\n",
       "      <th>...</th>\n",
       "      <th>...</th>\n",
       "      <td>...</td>\n",
       "    </tr>\n",
       "    <tr>\n",
       "      <th rowspan=\"2\" valign=\"top\">5585</th>\n",
       "      <th>604</th>\n",
       "      <th>1</th>\n",
       "      <td>-69.01</td>\n",
       "    </tr>\n",
       "    <tr>\n",
       "      <th>620</th>\n",
       "      <th>1</th>\n",
       "      <td>-36.11</td>\n",
       "    </tr>\n",
       "    <tr>\n",
       "      <th>5586</th>\n",
       "      <th>469</th>\n",
       "      <th>1</th>\n",
       "      <td>-32.30</td>\n",
       "    </tr>\n",
       "    <tr>\n",
       "      <th rowspan=\"2\" valign=\"top\">5589</th>\n",
       "      <th>510</th>\n",
       "      <th>1</th>\n",
       "      <td>47.15</td>\n",
       "    </tr>\n",
       "    <tr>\n",
       "      <th>604</th>\n",
       "      <th>1</th>\n",
       "      <td>45.91</td>\n",
       "    </tr>\n",
       "  </tbody>\n",
       "</table>\n",
       "<p>440 rows × 1 columns</p>\n",
       "</div>"
      ],
      "text/plain": [
       "                            VLRFAT\n",
       "CODCID CODPROD FREQUENCIA         \n",
       "2      418     1             13.50\n",
       "       426     1             52.80\n",
       "       469     1            725.09\n",
       "       510     1           3216.94\n",
       "               2           6480.02\n",
       "...                            ...\n",
       "5585   604     1            -69.01\n",
       "       620     1            -36.11\n",
       "5586   469     1            -32.30\n",
       "5589   510     1             47.15\n",
       "       604     1             45.91\n",
       "\n",
       "[440 rows x 1 columns]"
      ]
     },
     "metadata": {},
     "output_type": "display_data"
    }
   ],
   "source": [
    "faturamento_por_produto = tabela[[\"CODCID\",\"CODPROD\",\"FREQUENCIA\", \"VLRFAT\"]].groupby([\"CODCID\",\"CODPROD\",\"FREQUENCIA\"]).sum()\n",
    "display(faturamento_por_produto)"
   ]
  },
  {
   "cell_type": "code",
   "execution_count": 66,
   "id": "240bec87-0551-4051-a496-e065f767ae1a",
   "metadata": {},
   "outputs": [
    {
     "name": "stdout",
     "output_type": "stream",
     "text": [
      "<class 'pandas.core.frame.DataFrame'>\n",
      "RangeIndex: 5000 entries, 0 to 4999\n",
      "Data columns (total 14 columns):\n",
      " #   Column          Non-Null Count  Dtype  \n",
      "---  ------          --------------  -----  \n",
      " 0   CODPROD         5000 non-null   int64  \n",
      " 1   CODTIPO         5000 non-null   int64  \n",
      " 2   CODPARC         5000 non-null   int64  \n",
      " 3   CODCID          5000 non-null   int64  \n",
      " 4   HL              5000 non-null   float64\n",
      " 5   LT              5000 non-null   float64\n",
      " 6   VLRFAT          5000 non-null   float64\n",
      " 7   CUSSEMICM       5000 non-null   float64\n",
      " 8   GASTO_VARIAVEL  5000 non-null   float64\n",
      " 9   MARGEM_CONTRIB  5000 non-null   float64\n",
      " 10  GASTO_FIXO      5000 non-null   float64\n",
      " 11  RESULTADO       5000 non-null   float64\n",
      " 12  PERCE           5000 non-null   float64\n",
      " 13  FREQUENCIA      5000 non-null   int64  \n",
      "dtypes: float64(9), int64(5)\n",
      "memory usage: 547.0 KB\n"
     ]
    }
   ],
   "source": [
    "tabela.info()"
   ]
  },
  {
   "cell_type": "code",
   "execution_count": 67,
   "id": "f0f78fa2-5710-4ac5-8125-706bc972c01b",
   "metadata": {},
   "outputs": [
    {
     "data": {
      "text/plain": [
       "(5000, 14)"
      ]
     },
     "execution_count": 67,
     "metadata": {},
     "output_type": "execute_result"
    }
   ],
   "source": [
    "tabela.shape"
   ]
  },
  {
   "cell_type": "code",
   "execution_count": 68,
   "id": "4e549738-0864-4379-93bf-c06ea3186621",
   "metadata": {},
   "outputs": [
    {
     "data": {
      "text/plain": [
       "Index(['CODPROD', 'CODTIPO', 'CODPARC', 'CODCID', 'HL', 'LT', 'VLRFAT',\n",
       "       'CUSSEMICM', 'GASTO_VARIAVEL', 'MARGEM_CONTRIB', 'GASTO_FIXO',\n",
       "       'RESULTADO', 'PERCE', 'FREQUENCIA'],\n",
       "      dtype='object')"
      ]
     },
     "execution_count": 68,
     "metadata": {},
     "output_type": "execute_result"
    }
   ],
   "source": [
    "tabela.columns"
   ]
  },
  {
   "cell_type": "code",
   "execution_count": 69,
   "id": "fc9c2db3-71f4-46e3-a3cf-46f3011d484a",
   "metadata": {},
   "outputs": [
    {
     "data": {
      "image/png": "[encoded data removed]",
      "text/plain": [
       "<Figure size 640x480 with 1 Axes>"
      ]
     },
     "metadata": {},
     "output_type": "display_data"
    }
   ],
   "source": [
    "_ = plt.hist(tabela.VLRFAT)\n",
    "_ = plt.title(\"Histograma Faturamento\")"
   ]
  },
  {
   "cell_type": "code",
   "execution_count": 70,
   "id": "cd033054-74ac-4939-aa74-1ae971949b3c",
   "metadata": {},
   "outputs": [
    {
     "data": {
      "image/png": "[encoded data removed]",
      "text/plain": [
       "<Figure size 640x480 with 1 Axes>"
      ]
     },
     "metadata": {},
     "output_type": "display_data"
    }
   ],
   "source": [
    "_ = plt.hist(tabela.RESULTADO)\n",
    "_ = plt.title(\"Histograma RESULTADO\")"
   ]
  },
  {
   "cell_type": "code",
   "execution_count": 71,
   "id": "29e15983-be46-4454-9aa3-0b8d47de7e3b",
   "metadata": {},
   "outputs": [
    {
     "data": {
      "text/plain": [
       "CODCID\n",
       "4       908\n",
       "2       715\n",
       "762     661\n",
       "227     331\n",
       "278     299\n",
       "       ... \n",
       "808       1\n",
       "5377      1\n",
       "849       1\n",
       "850       1\n",
       "366       1\n",
       "Name: count, Length: 98, dtype: int64"
      ]
     },
     "execution_count": 71,
     "metadata": {},
     "output_type": "execute_result"
    }
   ],
   "source": [
    "tabela.CODCID.value_counts()"
   ]
  },
  {
   "cell_type": "code",
   "execution_count": 72,
   "id": "5bff6145-24b1-4a08-b40c-d224efc9e2eb",
   "metadata": {},
   "outputs": [
    {
     "data": {
      "text/plain": [
       "CODCID\n",
       "4       0.1816\n",
       "2       0.1430\n",
       "762     0.1322\n",
       "227     0.0662\n",
       "278     0.0598\n",
       "         ...  \n",
       "808     0.0002\n",
       "5377    0.0002\n",
       "849     0.0002\n",
       "850     0.0002\n",
       "366     0.0002\n",
       "Name: proportion, Length: 98, dtype: float64"
      ]
     },
     "execution_count": 72,
     "metadata": {},
     "output_type": "execute_result"
    }
   ],
   "source": [
    "tabela.CODCID.value_counts(1)"
   ]
  },
  {
   "cell_type": "code",
   "execution_count": 73,
   "id": "b142e115-8664-418f-905e-94f560c87df7",
   "metadata": {},
   "outputs": [
    {
     "data": {
      "image/png": "[encoded data removed]",
      "text/plain": [
       "<Figure size 640x480 with 1 Axes>"
      ]
     },
     "metadata": {},
     "output_type": "display_data"
    }
   ],
   "source": [
    "_ = tabela.CODCID.value_counts(1).plot.bar()\n",
    "_ = plt.title(\"Vendas Por CIDADE\")"
   ]
  },
  {
   "cell_type": "code",
   "execution_count": 78,
   "id": "25154457-8330-4cfc-a794-d31123a0c035",
   "metadata": {},
   "outputs": [
    {
     "ename": "ValueError",
     "evalue": "could not convert string to float: 'GREATER CODCID'",
     "output_type": "error",
     "traceback": [
      "\u001b[0;31m---------------------------------------------------------------------------\u001b[0m",
      "\u001b[0;31mValueError\u001b[0m                                Traceback (most recent call last)",
      "Cell \u001b[0;32mIn[78], line 1\u001b[0m\n\u001b[0;32m----> 1\u001b[0m \u001b[43mtabela\u001b[49m\u001b[38;5;241;43m.\u001b[39;49m\u001b[43mcorr\u001b[49m\u001b[43m(\u001b[49m\u001b[43m)\u001b[49m\n",
      "File \u001b[0;32m~/anaconda3/envs/myenv/lib/python3.12/site-packages/pandas/core/frame.py:10704\u001b[0m, in \u001b[0;36mDataFrame.corr\u001b[0;34m(self, method, min_periods, numeric_only)\u001b[0m\n\u001b[1;32m  10702\u001b[0m cols \u001b[38;5;241m=\u001b[39m data\u001b[38;5;241m.\u001b[39mcolumns\n\u001b[1;32m  10703\u001b[0m idx \u001b[38;5;241m=\u001b[39m cols\u001b[38;5;241m.\u001b[39mcopy()\n\u001b[0;32m> 10704\u001b[0m mat \u001b[38;5;241m=\u001b[39m \u001b[43mdata\u001b[49m\u001b[38;5;241;43m.\u001b[39;49m\u001b[43mto_numpy\u001b[49m\u001b[43m(\u001b[49m\u001b[43mdtype\u001b[49m\u001b[38;5;241;43m=\u001b[39;49m\u001b[38;5;28;43mfloat\u001b[39;49m\u001b[43m,\u001b[49m\u001b[43m \u001b[49m\u001b[43mna_value\u001b[49m\u001b[38;5;241;43m=\u001b[39;49m\u001b[43mnp\u001b[49m\u001b[38;5;241;43m.\u001b[39;49m\u001b[43mnan\u001b[49m\u001b[43m,\u001b[49m\u001b[43m \u001b[49m\u001b[43mcopy\u001b[49m\u001b[38;5;241;43m=\u001b[39;49m\u001b[38;5;28;43;01mFalse\u001b[39;49;00m\u001b[43m)\u001b[49m\n\u001b[1;32m  10706\u001b[0m \u001b[38;5;28;01mif\u001b[39;00m method \u001b[38;5;241m==\u001b[39m \u001b[38;5;124m\"\u001b[39m\u001b[38;5;124mpearson\u001b[39m\u001b[38;5;124m\"\u001b[39m:\n\u001b[1;32m  10707\u001b[0m     correl \u001b[38;5;241m=\u001b[39m libalgos\u001b[38;5;241m.\u001b[39mnancorr(mat, minp\u001b[38;5;241m=\u001b[39mmin_periods)\n",
      "File \u001b[0;32m~/anaconda3/envs/myenv/lib/python3.12/site-packages/pandas/core/frame.py:1889\u001b[0m, in \u001b[0;36mDataFrame.to_numpy\u001b[0;34m(self, dtype, copy, na_value)\u001b[0m\n\u001b[1;32m   1887\u001b[0m \u001b[38;5;28;01mif\u001b[39;00m dtype \u001b[38;5;129;01mis\u001b[39;00m \u001b[38;5;129;01mnot\u001b[39;00m \u001b[38;5;28;01mNone\u001b[39;00m:\n\u001b[1;32m   1888\u001b[0m     dtype \u001b[38;5;241m=\u001b[39m np\u001b[38;5;241m.\u001b[39mdtype(dtype)\n\u001b[0;32m-> 1889\u001b[0m result \u001b[38;5;241m=\u001b[39m \u001b[38;5;28;43mself\u001b[39;49m\u001b[38;5;241;43m.\u001b[39;49m\u001b[43m_mgr\u001b[49m\u001b[38;5;241;43m.\u001b[39;49m\u001b[43mas_array\u001b[49m\u001b[43m(\u001b[49m\u001b[43mdtype\u001b[49m\u001b[38;5;241;43m=\u001b[39;49m\u001b[43mdtype\u001b[49m\u001b[43m,\u001b[49m\u001b[43m \u001b[49m\u001b[43mcopy\u001b[49m\u001b[38;5;241;43m=\u001b[39;49m\u001b[43mcopy\u001b[49m\u001b[43m,\u001b[49m\u001b[43m \u001b[49m\u001b[43mna_value\u001b[49m\u001b[38;5;241;43m=\u001b[39;49m\u001b[43mna_value\u001b[49m\u001b[43m)\u001b[49m\n\u001b[1;32m   1890\u001b[0m \u001b[38;5;28;01mif\u001b[39;00m result\u001b[38;5;241m.\u001b[39mdtype \u001b[38;5;129;01mis\u001b[39;00m \u001b[38;5;129;01mnot\u001b[39;00m dtype:\n\u001b[1;32m   1891\u001b[0m     result \u001b[38;5;241m=\u001b[39m np\u001b[38;5;241m.\u001b[39marray(result, dtype\u001b[38;5;241m=\u001b[39mdtype, copy\u001b[38;5;241m=\u001b[39m\u001b[38;5;28;01mFalse\u001b[39;00m)\n",
      "File \u001b[0;32m~/anaconda3/envs/myenv/lib/python3.12/site-packages/pandas/core/internals/managers.py:1656\u001b[0m, in \u001b[0;36mBlockManager.as_array\u001b[0;34m(self, dtype, copy, na_value)\u001b[0m\n\u001b[1;32m   1654\u001b[0m         arr\u001b[38;5;241m.\u001b[39mflags\u001b[38;5;241m.\u001b[39mwriteable \u001b[38;5;241m=\u001b[39m \u001b[38;5;28;01mFalse\u001b[39;00m\n\u001b[1;32m   1655\u001b[0m \u001b[38;5;28;01melse\u001b[39;00m:\n\u001b[0;32m-> 1656\u001b[0m     arr \u001b[38;5;241m=\u001b[39m \u001b[38;5;28;43mself\u001b[39;49m\u001b[38;5;241;43m.\u001b[39;49m\u001b[43m_interleave\u001b[49m\u001b[43m(\u001b[49m\u001b[43mdtype\u001b[49m\u001b[38;5;241;43m=\u001b[39;49m\u001b[43mdtype\u001b[49m\u001b[43m,\u001b[49m\u001b[43m \u001b[49m\u001b[43mna_value\u001b[49m\u001b[38;5;241;43m=\u001b[39;49m\u001b[43mna_value\u001b[49m\u001b[43m)\u001b[49m\n\u001b[1;32m   1657\u001b[0m     \u001b[38;5;66;03m# The underlying data was copied within _interleave, so no need\u001b[39;00m\n\u001b[1;32m   1658\u001b[0m     \u001b[38;5;66;03m# to further copy if copy=True or setting na_value\u001b[39;00m\n\u001b[1;32m   1660\u001b[0m \u001b[38;5;28;01mif\u001b[39;00m na_value \u001b[38;5;129;01mis\u001b[39;00m lib\u001b[38;5;241m.\u001b[39mno_default:\n",
      "File \u001b[0;32m~/anaconda3/envs/myenv/lib/python3.12/site-packages/pandas/core/internals/managers.py:1715\u001b[0m, in \u001b[0;36mBlockManager._interleave\u001b[0;34m(self, dtype, na_value)\u001b[0m\n\u001b[1;32m   1713\u001b[0m     \u001b[38;5;28;01melse\u001b[39;00m:\n\u001b[1;32m   1714\u001b[0m         arr \u001b[38;5;241m=\u001b[39m blk\u001b[38;5;241m.\u001b[39mget_values(dtype)\n\u001b[0;32m-> 1715\u001b[0m     \u001b[43mresult\u001b[49m\u001b[43m[\u001b[49m\u001b[43mrl\u001b[49m\u001b[38;5;241;43m.\u001b[39;49m\u001b[43mindexer\u001b[49m\u001b[43m]\u001b[49m \u001b[38;5;241m=\u001b[39m arr\n\u001b[1;32m   1716\u001b[0m     itemmask[rl\u001b[38;5;241m.\u001b[39mindexer] \u001b[38;5;241m=\u001b[39m \u001b[38;5;241m1\u001b[39m\n\u001b[1;32m   1718\u001b[0m \u001b[38;5;28;01mif\u001b[39;00m \u001b[38;5;129;01mnot\u001b[39;00m itemmask\u001b[38;5;241m.\u001b[39mall():\n",
      "\u001b[0;31mValueError\u001b[0m: could not convert string to float: 'GREATER CODCID'"
     ]
    }
   ],
   "source": [
    "tabela.corr()"
   ]
  },
  {
   "cell_type": "code",
   "execution_count": null,
   "id": "a9ba7643-0786-4367-9699-3a90f2124b5e",
   "metadata": {},
   "outputs": [],
   "source": []
  }
 ],
 "metadata": {
  "kernelspec": {
   "display_name": "Python 3 (ipykernel)",
   "language": "python",
   "name": "python3"
  },
  "language_info": {
   "codemirror_mode": {
    "name": "ipython",
    "version": 3
   },
   "file_extension": ".py",
   "mimetype": "text/x-python",
   "name": "python",
   "nbconvert_exporter": "python",
   "pygments_lexer": "ipython3",
   "version": "3.12.0"
  }
 },
 "nbformat": 4,
 "nbformat_minor": 5
}
